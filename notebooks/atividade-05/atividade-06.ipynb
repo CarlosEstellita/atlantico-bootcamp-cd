{
 "cells": [
  {
   "cell_type": "code",
   "execution_count": 1,
   "id": "65ecb6fa-1a0b-4c9c-a6bf-784a12606067",
   "metadata": {},
   "outputs": [],
   "source": [
    "#importando bibliotecas\n",
    "import pandas as pd\n",
    "import seaborn as sn\n",
    "from matplotlib import pyplot as plt"
   ]
  },
  {
   "cell_type": "code",
   "execution_count": 2,
   "id": "af858bb8-0a9b-4413-8274-70b370543e54",
   "metadata": {},
   "outputs": [
    {
     "data": {
      "text/html": [
       "<div>\n",
       "<style scoped>\n",
       "    .dataframe tbody tr th:only-of-type {\n",
       "        vertical-align: middle;\n",
       "    }\n",
       "\n",
       "    .dataframe tbody tr th {\n",
       "        vertical-align: top;\n",
       "    }\n",
       "\n",
       "    .dataframe thead th {\n",
       "        text-align: right;\n",
       "    }\n",
       "</style>\n",
       "<table border=\"1\" class=\"dataframe\">\n",
       "  <thead>\n",
       "    <tr style=\"text-align: right;\">\n",
       "      <th></th>\n",
       "      <th>S.NO</th>\n",
       "      <th>Name</th>\n",
       "      <th>Nationality</th>\n",
       "      <th>Current Rank</th>\n",
       "      <th>Previous Year Rank</th>\n",
       "      <th>Sport</th>\n",
       "      <th>Year</th>\n",
       "      <th>earnings ($ million)</th>\n",
       "    </tr>\n",
       "  </thead>\n",
       "  <tbody>\n",
       "    <tr>\n",
       "      <th>0</th>\n",
       "      <td>1</td>\n",
       "      <td>Mike Tyson</td>\n",
       "      <td>USA</td>\n",
       "      <td>1</td>\n",
       "      <td>NaN</td>\n",
       "      <td>boxing</td>\n",
       "      <td>1990</td>\n",
       "      <td>28.6</td>\n",
       "    </tr>\n",
       "    <tr>\n",
       "      <th>1</th>\n",
       "      <td>2</td>\n",
       "      <td>Buster Douglas</td>\n",
       "      <td>USA</td>\n",
       "      <td>2</td>\n",
       "      <td>NaN</td>\n",
       "      <td>boxing</td>\n",
       "      <td>1990</td>\n",
       "      <td>26.0</td>\n",
       "    </tr>\n",
       "    <tr>\n",
       "      <th>2</th>\n",
       "      <td>3</td>\n",
       "      <td>Sugar Ray Leonard</td>\n",
       "      <td>USA</td>\n",
       "      <td>3</td>\n",
       "      <td>NaN</td>\n",
       "      <td>boxing</td>\n",
       "      <td>1990</td>\n",
       "      <td>13.0</td>\n",
       "    </tr>\n",
       "    <tr>\n",
       "      <th>3</th>\n",
       "      <td>4</td>\n",
       "      <td>Ayrton Senna</td>\n",
       "      <td>Brazil</td>\n",
       "      <td>4</td>\n",
       "      <td>NaN</td>\n",
       "      <td>auto racing</td>\n",
       "      <td>1990</td>\n",
       "      <td>10.0</td>\n",
       "    </tr>\n",
       "    <tr>\n",
       "      <th>4</th>\n",
       "      <td>5</td>\n",
       "      <td>Alain Prost</td>\n",
       "      <td>France</td>\n",
       "      <td>5</td>\n",
       "      <td>NaN</td>\n",
       "      <td>auto racing</td>\n",
       "      <td>1990</td>\n",
       "      <td>9.0</td>\n",
       "    </tr>\n",
       "  </tbody>\n",
       "</table>\n",
       "</div>"
      ],
      "text/plain": [
       "   S.NO               Name Nationality  Current Rank Previous Year Rank  \\\n",
       "0     1         Mike Tyson         USA             1                NaN   \n",
       "1     2     Buster Douglas         USA             2                NaN   \n",
       "2     3  Sugar Ray Leonard         USA             3                NaN   \n",
       "3     4       Ayrton Senna      Brazil             4                NaN   \n",
       "4     5        Alain Prost      France             5                NaN   \n",
       "\n",
       "         Sport  Year  earnings ($ million)  \n",
       "0       boxing  1990                  28.6  \n",
       "1       boxing  1990                  26.0  \n",
       "2       boxing  1990                  13.0  \n",
       "3  auto racing  1990                  10.0  \n",
       "4  auto racing  1990                   9.0  "
      ]
     },
     "execution_count": 2,
     "metadata": {},
     "output_type": "execute_result"
    }
   ],
   "source": [
    "df = pd.read_csv('../data/raw/ForbesRichestAtheletes.csv') #importando o dataset de atletas mais ricos\n",
    "df.head() #mostrando o topo do .csv"
   ]
  },
  {
   "cell_type": "code",
   "execution_count": 3,
   "id": "1e6c9842-ffe5-4149-9fb0-6e0bc919d516",
   "metadata": {},
   "outputs": [
    {
     "data": {
      "text/plain": [
       "301"
      ]
     },
     "execution_count": 3,
     "metadata": {},
     "output_type": "execute_result"
    }
   ],
   "source": [
    "len(df)"
   ]
  },
  {
   "cell_type": "code",
   "execution_count": 4,
   "id": "cd09a687-58e6-4ff7-b922-f4531040c9bc",
   "metadata": {},
   "outputs": [
    {
     "name": "stdout",
     "output_type": "stream",
     "text": [
      "<class 'pandas.core.frame.DataFrame'>\n",
      "RangeIndex: 301 entries, 0 to 300\n",
      "Data columns (total 8 columns):\n",
      " #   Column                Non-Null Count  Dtype  \n",
      "---  ------                --------------  -----  \n",
      " 0   S.NO                  301 non-null    int64  \n",
      " 1   Name                  301 non-null    object \n",
      " 2   Nationality           301 non-null    object \n",
      " 3   Current Rank          301 non-null    int64  \n",
      " 4   Previous Year Rank    277 non-null    object \n",
      " 5   Sport                 301 non-null    object \n",
      " 6   Year                  301 non-null    int64  \n",
      " 7   earnings ($ million)  301 non-null    float64\n",
      "dtypes: float64(1), int64(3), object(4)\n",
      "memory usage: 18.9+ KB\n"
     ]
    }
   ],
   "source": [
    "df.info() #identificando variaveis, números de valores não nulos, tipo etc"
   ]
  },
  {
   "cell_type": "code",
   "execution_count": 5,
   "id": "f6bb10cb-31e2-45b7-b848-7b53fa232b3b",
   "metadata": {},
   "outputs": [],
   "source": [
    "#verificando os dados faltantes\n",
    "missing_data_size = df.isnull().sum()\n",
    "missing_data_columns = (\n",
    "    (\n",
    "        missing_data_size[missing_data_size > 0]\n",
    "    )\n",
    "    .sort_values(ascending=False)\n",
    "    .to_frame(name='Count')\n",
    ")\n",
    "missing_data_columns = (\n",
    "    missing_data_columns.assign(\n",
    "        Column=missing_data_columns.index\n",
    "    )\n",
    ").reset_index(drop=True)"
   ]
  },
  {
   "cell_type": "code",
   "execution_count": 6,
   "id": "a5157e1c-6559-44bc-bde6-446a62650c9b",
   "metadata": {},
   "outputs": [
    {
     "data": {
      "image/png": "[encoded data removed]",
      "text/plain": [
       "<Figure size 720x288 with 1 Axes>"
      ]
     },
     "metadata": {
      "needs_background": "light"
     },
     "output_type": "display_data"
    }
   ],
   "source": [
    "plt.figure(figsize=(10, 4))\n",
    "ax = sn.barplot(data=missing_data_columns, x='Count', y='Column', color=\"#00853B\")\n",
    "sn.despine(left=True, bottom=True)\n",
    "ax.bar_label(ax.containers[0], labels=[f\"{i:.2f} %\" for i in missing_data_columns.Count.astype(int) / len(df) * 100])\n",
    "plt.suptitle(\"Missing data distribuition\", ha='left', va='top', x=-.1, fontweight='bold')\n",
    "plt.show()"
   ]
  },
  {
   "cell_type": "code",
   "execution_count": 7,
   "id": "1ab4fc70-5571-4ce9-b7b9-53897401f90d",
   "metadata": {},
   "outputs": [
    {
     "name": "stdout",
     "output_type": "stream",
     "text": [
      "Previous Year Rank: [0, 1, 2, 3, 4, 5, 6, 7, 8, 9, 80, 81, 82, 83, 84, 85, 86, 87, 88, 89, 266, 268, 269, 270]\n"
     ]
    }
   ],
   "source": [
    "#vendo o index dos dados faltantes\n",
    "for column in missing_data_columns.Column:\n",
    "    indexes = list(df[df[column].isnull()].index)\n",
    "    print(f'{column}: {indexes}')"
   ]
  },
  {
   "cell_type": "code",
   "execution_count": 8,
   "id": "d39ca8f1-e460-4172-b01f-2e2bb2f00127",
   "metadata": {},
   "outputs": [],
   "source": [
    "df = df.fillna(0) #pondo 0 no lugar de todos os dados faltantes"
   ]
  },
  {
   "cell_type": "code",
   "execution_count": 9,
   "id": "168000f0-47df-4702-b878-e697868ad2df",
   "metadata": {},
   "outputs": [
    {
     "name": "stdout",
     "output_type": "stream",
     "text": [
      "Previous Year Rank: []\n"
     ]
    }
   ],
   "source": [
    "#verificando se deu certo\n",
    "for column in missing_data_columns.Column:\n",
    "    indexes = list(df[df[column].isnull()].index)\n",
    "    print(f'{column}: {indexes}')"
   ]
  },
  {
   "cell_type": "code",
   "execution_count": null,
   "id": "ed5a223c-c31f-4b1d-ba01-b5aaee0b5f91",
   "metadata": {},
   "outputs": [],
   "source": [
    "#quais as nacionalidades mais bem pagas?\n",
    "#qual a relação entre o esporte praticado e seus salários\n",
    "#qual a relação do ranking dos jogadores com seus salarios"
   ]
  },
  {
   "cell_type": "code",
   "execution_count": 25,
   "id": "7207137d-342e-41f1-869c-c4ce2376b464",
   "metadata": {},
   "outputs": [
    {
     "data": {
      "text/plain": [
       "<AxesSubplot:xlabel='Count', ylabel='Nationality'>"
      ]
     },
     "execution_count": 25,
     "metadata": {},
     "output_type": "execute_result"
    },
    {
     "data": {
      "image/png": "[encoded data removed]",
      "text/plain": [
       "<Figure size 432x288 with 1 Axes>"
      ]
     },
     "metadata": {
      "needs_background": "light"
     },
     "output_type": "display_data"
    }
   ],
   "source": [
    "sn.histplot(data=df, y=\"Nationality\", kde=True)"
   ]
  },
  {
   "cell_type": "code",
   "execution_count": 14,
   "id": "e8fa44a5-9af1-4b80-8d12-2b58e923870a",
   "metadata": {},
   "outputs": [
    {
     "data": {
      "image/png": "[encoded data removed]",
      "text/plain": [
       "<Figure size 720x720 with 2 Axes>"
      ]
     },
     "metadata": {
      "needs_background": "light"
     },
     "output_type": "display_data"
    }
   ],
   "source": [
    "fig, axes = plt.subplots(2, 1, figsize=(10, 10))\n",
    "sn.boxplot(ax=axes[0], data=df[[\"Current Rank\"]], orient=\"h\")\n",
    "sn.boxplot(ax=axes[1], data=df[[\"earnings ($ million)\"]], orient=\"h\")\n",
    "plt.show()"
   ]
  }
 ],
 "metadata": {
  "kernelspec": {
   "display_name": "Python 3 (ipykernel)",
   "language": "python",
   "name": "python3"
  },
  "language_info": {
   "codemirror_mode": {
    "name": "ipython",
    "version": 3
   },
   "file_extension": ".py",
   "mimetype": "text/x-python",
   "name": "python",
   "nbconvert_exporter": "python",
   "pygments_lexer": "ipython3",
   "version": "3.8.10"
  }
 },
 "nbformat": 4,
 "nbformat_minor": 5
}
